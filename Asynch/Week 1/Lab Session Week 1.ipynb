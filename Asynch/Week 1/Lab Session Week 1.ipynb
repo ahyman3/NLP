{
 "cells": [
  {
   "cell_type": "code",
   "execution_count": 5,
   "metadata": {},
   "outputs": [
    {
     "name": "stdout",
     "output_type": "stream",
     "text": [
      "*** Introductory Examples for the NLTK Book ***\n",
      "Loading text1, ..., text9 and sent1, ..., sent9\n",
      "Type the name of the text or sentence to view it.\n",
      "Type: 'texts()' or 'sents()' to list the materials.\n",
      "text1: Moby Dick by Herman Melville 1851\n",
      "text2: Sense and Sensibility by Jane Austen 1811\n",
      "text3: The Book of Genesis\n",
      "text4: Inaugural Address Corpus\n",
      "text5: Chat Corpus\n",
      "text6: Monty Python and the Holy Grail\n",
      "text7: Wall Street Journal\n",
      "text8: Personals Corpus\n",
      "text9: The Man Who Was Thursday by G . K . Chesterton 1908\n"
     ]
    }
   ],
   "source": [
    "from nltk.book import *\n",
    "import nltk\n"
   ]
  },
  {
   "cell_type": "code",
   "execution_count": 55,
   "metadata": {},
   "outputs": [
    {
     "name": "stdout",
     "output_type": "stream",
     "text": [
      "word: ,   \tcount: 70573\n",
      "word: the   \tcount: 64023\n",
      "word: and   \tcount: 51696\n",
      "word: of   \tcount: 34670\n",
      "word: .   \tcount: 26202\n",
      "word: to   \tcount: 13580\n",
      "word: that   \tcount: 12912\n",
      "word: :   \tcount: 12706\n",
      "word: in   \tcount: 12667\n",
      "word: he   \tcount: 10419\n",
      "word: ;   \tcount: 10139\n",
      "word: shall   \tcount: 9838\n",
      "word: unto   \tcount: 8997\n",
      "word: for   \tcount: 8971\n",
      "word: i   \tcount: 8854\n",
      "word: his   \tcount: 8473\n",
      "word: a   \tcount: 8177\n",
      "word: lord   \tcount: 7944\n",
      "word: they   \tcount: 7376\n",
      "word: be   \tcount: 7013\n",
      "word: is   \tcount: 6989\n",
      "word: not   \tcount: 6780\n",
      "word: him   \tcount: 6659\n",
      "word: them   \tcount: 6430\n",
      "word: it   \tcount: 6129\n",
      "word: with   \tcount: 6012\n",
      "word: all   \tcount: 5620\n",
      "word: thou   \tcount: 5474\n",
      "word: thy   \tcount: 4600\n",
      "word: was   \tcount: 4522\n"
     ]
    }
   ],
   "source": [
    "from nltk import FreqDist\n",
    "nltk.corpus.gutenberg.fileids()\n",
    "bible = nltk.corpus.gutenberg.fileids()[3]\n",
    "bible = nltk.corpus.gutenberg.raw(bible)\n",
    "biblewords = nltk.word_tokenize(bible)\n",
    "biblewords = [w.lower() for w in biblewords]\n",
    "fbible = FreqDist(biblewords)\n",
    "topbible = fbible.most_common(30)\n",
    "for w, c in topbible:\n",
    "    print(\"word: {:s}   \\tcount: {:d}\".format(w, c))"
   ]
  },
  {
   "cell_type": "code",
   "execution_count": null,
   "metadata": {},
   "outputs": [],
   "source": []
  }
 ],
 "metadata": {
  "kernelspec": {
   "display_name": "Python 3",
   "language": "python",
   "name": "python3"
  },
  "language_info": {
   "codemirror_mode": {
    "name": "ipython",
    "version": 3
   },
   "file_extension": ".py",
   "mimetype": "text/x-python",
   "name": "python",
   "nbconvert_exporter": "python",
   "pygments_lexer": "ipython3",
   "version": "3.6.5"
  }
 },
 "nbformat": 4,
 "nbformat_minor": 2
}
