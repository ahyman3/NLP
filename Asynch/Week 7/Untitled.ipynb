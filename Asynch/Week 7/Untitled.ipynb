{
 "cells": [
  {
   "cell_type": "code",
   "execution_count": 1,
   "metadata": {},
   "outputs": [],
   "source": [
    "import nltk"
   ]
  },
  {
   "cell_type": "code",
   "execution_count": 5,
   "metadata": {},
   "outputs": [],
   "source": [
    "def gender_features(word):\n",
    "    return {\"last_letter\":word[-1]}"
   ]
  },
  {
   "cell_type": "code",
   "execution_count": 14,
   "metadata": {},
   "outputs": [
    {
     "name": "stdout",
     "output_type": "stream",
     "text": [
      "['Aamir', 'Aaron', 'Abbey', 'Abbie', 'Abbot', 'Abbott', 'Abby', 'Abdel', 'Abdul', 'Abdulkarim', 'Abdullah', 'Abe', 'Abel', 'Abelard', 'Abner', 'Abraham', 'Abram', 'Ace', 'Adair', 'Adam']\n",
      "['Abagael', 'Abagail', 'Abbe', 'Abbey', 'Abbi', 'Abbie', 'Abby', 'Abigael', 'Abigail', 'Abigale', 'Abra', 'Acacia', 'Ada', 'Adah', 'Adaline', 'Adara', 'Addie', 'Addis', 'Adel', 'Adela']\n"
     ]
    }
   ],
   "source": [
    "from nltk.corpus import names\n",
    "print(names.words([\"male.txt\"])[:20])\n",
    "print(names.words([\"female.txt\"])[:20])"
   ]
  },
  {
   "cell_type": "code",
   "execution_count": 17,
   "metadata": {},
   "outputs": [
    {
     "name": "stdout",
     "output_type": "stream",
     "text": [
      "7944\n",
      "[('Aamir', 'male'), ('Aaron', 'male'), ('Abbey', 'male'), ('Abbie', 'male'), ('Abbot', 'male'), ('Abbott', 'male'), ('Abby', 'male'), ('Abdel', 'male'), ('Abdul', 'male'), ('Abdulkarim', 'male')]\n",
      "[('Zena', 'female'), ('Zenia', 'female'), ('Zia', 'female'), ('Zilvia', 'female'), ('Zita', 'female'), ('Zitella', 'female'), ('Zoe', 'female'), ('Zola', 'female'), ('Zonda', 'female'), ('Zondra', 'female'), ('Zonnya', 'female'), ('Zora', 'female'), ('Zorah', 'female'), ('Zorana', 'female'), ('Zorina', 'female'), ('Zorine', 'female'), ('Zsa Zsa', 'female'), ('Zsazsa', 'female'), ('Zulema', 'female'), ('Zuzana', 'female')]\n"
     ]
    }
   ],
   "source": [
    "namegender = [(name, \"male\") for name in names.words([\"male.txt\"])] +\\\n",
    "    [(name, \"female\") for name in names.words([\"female.txt\"])]\n",
    "print(len(namegender))\n",
    "print(namegender[:10])\n",
    "print(namegender[7924:])"
   ]
  },
  {
   "cell_type": "code",
   "execution_count": 21,
   "metadata": {},
   "outputs": [
    {
     "name": "stdout",
     "output_type": "stream",
     "text": [
      "[('Forbes', 'male'), ('Eba', 'female'), ('Linet', 'female'), ('Susana', 'female'), ('Celie', 'female'), ('Cinnamon', 'female'), ('Engracia', 'female'), ('Roobbie', 'female'), ('Bonny', 'female'), ('Jaimie', 'female'), ('Manuel', 'male'), ('Arthur', 'male'), ('Elke', 'female'), ('Nadine', 'female'), ('Kendal', 'male'), ('Jenny', 'female'), ('Jakob', 'male'), ('Shana', 'female'), ('Tommi', 'female'), ('Lee', 'female')]\n"
     ]
    }
   ],
   "source": [
    "import random\n",
    "random.shuffle(namegender)\n",
    "print(namegender[:20])"
   ]
  },
  {
   "cell_type": "code",
   "execution_count": 43,
   "metadata": {},
   "outputs": [],
   "source": [
    "trainnames = namegender[500:]\n",
    "testnames = namegender[:500]"
   ]
  },
  {
   "cell_type": "code",
   "execution_count": 44,
   "metadata": {},
   "outputs": [],
   "source": [
    "train_set = [(gender_features(name), gender ) for name, gender in trainnames]\n",
    "test_set = [(gender_features(name), gender ) for name, gender in testnames]  "
   ]
  },
  {
   "cell_type": "code",
   "execution_count": 45,
   "metadata": {},
   "outputs": [],
   "source": [
    "classifier = nltk.NaiveBayesClassifier.train(train_set)"
   ]
  },
  {
   "cell_type": "code",
   "execution_count": 46,
   "metadata": {},
   "outputs": [
    {
     "name": "stdout",
     "output_type": "stream",
     "text": [
      "male\n",
      "female\n",
      "female\n"
     ]
    }
   ],
   "source": [
    "print(classifier.classify(gender_features(\"Neo\")))\n",
    "print(classifier.classify(gender_features(\"Mary\")))\n",
    "print(classifier.classify(gender_features(\"Trinity\")))"
   ]
  },
  {
   "cell_type": "code",
   "execution_count": 47,
   "metadata": {},
   "outputs": [
    {
     "data": {
      "text/plain": [
       "0.786"
      ]
     },
     "execution_count": 47,
     "metadata": {},
     "output_type": "execute_result"
    }
   ],
   "source": [
    "nltk.classify.accuracy(classifier, test_set)"
   ]
  },
  {
   "cell_type": "code",
   "execution_count": 48,
   "metadata": {},
   "outputs": [
    {
     "name": "stdout",
     "output_type": "stream",
     "text": [
      "Most Informative Features\n",
      "             last_letter = 'k'              male : female =     43.5 : 1.0\n",
      "             last_letter = 'a'            female : male   =     35.6 : 1.0\n",
      "             last_letter = 'f'              male : female =     15.8 : 1.0\n",
      "             last_letter = 'p'              male : female =     12.5 : 1.0\n",
      "             last_letter = 'v'              male : female =     10.4 : 1.0\n",
      "             last_letter = 'd'              male : female =     10.0 : 1.0\n",
      "             last_letter = 'm'              male : female =      8.4 : 1.0\n",
      "             last_letter = 'o'              male : female =      7.7 : 1.0\n",
      "             last_letter = 'r'              male : female =      6.6 : 1.0\n",
      "             last_letter = 'w'              male : female =      5.4 : 1.0\n",
      "             last_letter = 'g'              male : female =      5.1 : 1.0\n",
      "             last_letter = 'z'              male : female =      4.3 : 1.0\n",
      "             last_letter = 't'              male : female =      4.2 : 1.0\n",
      "             last_letter = 's'              male : female =      4.0 : 1.0\n",
      "             last_letter = 'j'              male : female =      3.9 : 1.0\n",
      "             last_letter = 'i'            female : male   =      3.7 : 1.0\n",
      "             last_letter = 'u'              male : female =      3.2 : 1.0\n",
      "             last_letter = 'b'              male : female =      3.1 : 1.0\n",
      "             last_letter = 'n'              male : female =      2.1 : 1.0\n",
      "             last_letter = 'e'            female : male   =      1.8 : 1.0\n"
     ]
    }
   ],
   "source": [
    "classifier.show_most_informative_features(20)"
   ]
  },
  {
   "cell_type": "code",
   "execution_count": 51,
   "metadata": {},
   "outputs": [],
   "source": [
    "def get_errors(test):\n",
    "    errors = []\n",
    "    for (name, gender) in testnames:\n",
    "        guess = classifier.classify(gender_features(name))\n",
    "        if guess != gender:\n",
    "            errors.append((gender, guess, name))\n",
    "    return errors"
   ]
  },
  {
   "cell_type": "code",
   "execution_count": 64,
   "metadata": {},
   "outputs": [
    {
     "name": "stdout",
     "output_type": "stream",
     "text": [
      "107\n",
      "Tag: female\tGuess: male\tName: Linet\n",
      "Tag: female\tGuess: male\tName: Cinnamon\n",
      "Tag: male\tGuess: female\tName: Shorty\n",
      "Tag: male\tGuess: female\tName: Moe\n",
      "Tag: male\tGuess: female\tName: Tedie\n",
      "Tag: male\tGuess: female\tName: Trace\n",
      "Tag: female\tGuess: male\tName: Nell\n",
      "Tag: female\tGuess: male\tName: Fanchon\n",
      "Tag: female\tGuess: male\tName: Dagmar\n",
      "Tag: male\tGuess: female\tName: Sherlocke\n",
      "Tag: male\tGuess: female\tName: Ossie\n",
      "Tag: female\tGuess: male\tName: Kirstyn\n",
      "Tag: male\tGuess: female\tName: Kalle\n",
      "Tag: male\tGuess: female\tName: Barth\n",
      "Tag: female\tGuess: male\tName: Madel\n",
      "Tag: female\tGuess: male\tName: Karylin\n",
      "Tag: female\tGuess: male\tName: Noelyn\n",
      "Tag: female\tGuess: male\tName: Imogen\n",
      "Tag: female\tGuess: male\tName: Wileen\n",
      "Tag: male\tGuess: female\tName: Wylie\n",
      "Tag: male\tGuess: female\tName: Augustine\n",
      "Tag: male\tGuess: female\tName: Joe\n",
      "Tag: female\tGuess: male\tName: Gwenn\n",
      "Tag: female\tGuess: male\tName: Mirabel\n",
      "Tag: female\tGuess: male\tName: Alison\n",
      "Tag: male\tGuess: female\tName: Pooh\n",
      "Tag: female\tGuess: male\tName: Moll\n",
      "Tag: female\tGuess: male\tName: Jesselyn\n",
      "Tag: female\tGuess: male\tName: Meagan\n",
      "Tag: male\tGuess: female\tName: Noble\n",
      "Tag: male\tGuess: female\tName: Zane\n",
      "Tag: female\tGuess: male\tName: Cristen\n",
      "Tag: male\tGuess: female\tName: Mickey\n",
      "Tag: female\tGuess: male\tName: Carolann\n",
      "Tag: female\tGuess: male\tName: Gabriell\n",
      "Tag: female\tGuess: male\tName: Jonis\n",
      "Tag: male\tGuess: female\tName: Adlai\n",
      "Tag: male\tGuess: female\tName: Hirsch\n",
      "Tag: female\tGuess: male\tName: Ayn\n",
      "Tag: female\tGuess: male\tName: Kristen\n",
      "Tag: male\tGuess: female\tName: Robbie\n",
      "Tag: male\tGuess: female\tName: Sawyere\n",
      "Tag: female\tGuess: male\tName: Fred\n",
      "Tag: female\tGuess: male\tName: Roslyn\n",
      "Tag: male\tGuess: female\tName: Garth\n",
      "Tag: female\tGuess: male\tName: Robbin\n",
      "Tag: female\tGuess: male\tName: Linnet\n",
      "Tag: male\tGuess: female\tName: Zacharia\n",
      "Tag: male\tGuess: female\tName: Doyle\n",
      "Tag: female\tGuess: male\tName: Janet\n",
      "Tag: male\tGuess: female\tName: Murphy\n",
      "Tag: male\tGuess: female\tName: Herbie\n",
      "Tag: male\tGuess: female\tName: Serge\n",
      "Tag: male\tGuess: female\tName: Cody\n",
      "Tag: female\tGuess: male\tName: Saraann\n",
      "Tag: male\tGuess: female\tName: Giuseppe\n",
      "Tag: female\tGuess: male\tName: Allys\n",
      "Tag: female\tGuess: male\tName: Cecil\n",
      "Tag: female\tGuess: male\tName: Alys\n",
      "Tag: male\tGuess: female\tName: Rolph\n",
      "Tag: male\tGuess: female\tName: Winnie\n",
      "Tag: female\tGuess: male\tName: Lark\n",
      "Tag: female\tGuess: male\tName: Carmon\n",
      "Tag: female\tGuess: male\tName: Sibel\n",
      "Tag: male\tGuess: female\tName: Tally\n",
      "Tag: female\tGuess: male\tName: Lust\n",
      "Tag: female\tGuess: male\tName: Marillin\n",
      "Tag: male\tGuess: female\tName: Alaa\n",
      "Tag: female\tGuess: male\tName: Moreen\n",
      "Tag: male\tGuess: female\tName: Scotti\n",
      "Tag: male\tGuess: female\tName: Ruddie\n",
      "Tag: female\tGuess: male\tName: Idell\n",
      "Tag: male\tGuess: female\tName: Jean-Christophe\n",
      "Tag: female\tGuess: male\tName: Jessalin\n",
      "Tag: male\tGuess: female\tName: Kane\n",
      "Tag: male\tGuess: female\tName: Lenny\n",
      "Tag: male\tGuess: female\tName: Dane\n",
      "Tag: male\tGuess: female\tName: Lane\n",
      "Tag: male\tGuess: female\tName: Ramesh\n",
      "Tag: male\tGuess: female\tName: Witty\n",
      "Tag: female\tGuess: male\tName: Gabriel\n",
      "Tag: female\tGuess: male\tName: Laureen\n",
      "Tag: female\tGuess: male\tName: Millicent\n",
      "Tag: male\tGuess: female\tName: Reggy\n",
      "Tag: male\tGuess: female\tName: Clare\n",
      "Tag: female\tGuess: male\tName: Adriaens\n",
      "Tag: male\tGuess: female\tName: Abbey\n",
      "Tag: male\tGuess: female\tName: Neddie\n",
      "Tag: male\tGuess: female\tName: Hewie\n",
      "Tag: female\tGuess: male\tName: Fawn\n",
      "Tag: male\tGuess: female\tName: Reese\n",
      "Tag: male\tGuess: female\tName: Barde\n",
      "Tag: female\tGuess: male\tName: Madlen\n",
      "Tag: male\tGuess: female\tName: Courtney\n",
      "Tag: male\tGuess: female\tName: Cyrille\n",
      "Tag: male\tGuess: female\tName: Moishe\n",
      "Tag: female\tGuess: male\tName: Austin\n",
      "Tag: female\tGuess: male\tName: Kristan\n",
      "Tag: female\tGuess: male\tName: Marigold\n",
      "Tag: female\tGuess: male\tName: Sigrid\n",
      "Tag: female\tGuess: male\tName: Kerrin\n",
      "Tag: female\tGuess: male\tName: Meridel\n",
      "Tag: female\tGuess: male\tName: Gennifer\n",
      "Tag: male\tGuess: female\tName: Zebadiah\n",
      "Tag: male\tGuess: female\tName: Ambrosi\n",
      "Tag: female\tGuess: male\tName: Cherlyn\n",
      "Tag: male\tGuess: female\tName: Worth\n"
     ]
    }
   ],
   "source": [
    "errors = get_errors(test_set)\n",
    "print(len(errors))\n",
    "for gender, guess, name in errors:\n",
    "    print(\"Tag: {:s}\\tGuess: {:s}\\tName: {:s}\".format(gender, guess, name))"
   ]
  },
  {
   "cell_type": "markdown",
   "metadata": {},
   "source": [
    "Define a new feature extraction function that includes features for two-letter suffixes, such as the one here:\n",
    "\n",
    "def gender_features3(word):\n",
    "\n",
    "return {‘suffix1’: word[-1],\n",
    "\n",
    "‘suffix2’: word[-2]}\n",
    "\n",
    "Keep the variables train_names and test_names that define the training and test set.\n",
    "\n",
    "Make new train_set and test_set variables. Carry out the classification and look at the errors in the test set.\n",
    "\n",
    "Is this classification more accurate? Can you see error examples that you could use to make new features to improve? (You don’t have to do this, just observe it.)\n",
    "\n",
    "Make an answer with your original accuracy on the test set and the new accuracy, and you may also make any observations that you can about the remaining errors.\n",
    "\n",
    "If you have time, you can make a new gender_features function that keeps three suffix letters, but make allowances if any names are only two characters long. Or perhaps a gender_features function that uses the first letter and the last two letters."
   ]
  },
  {
   "cell_type": "code",
   "execution_count": 53,
   "metadata": {},
   "outputs": [],
   "source": [
    "def letter_extractions(name):\n",
    "    return {\"last_letter\": name[-1], \"previous_letter\":name[-1]}"
   ]
  },
  {
   "cell_type": "code",
   "execution_count": 54,
   "metadata": {},
   "outputs": [],
   "source": [
    "train_set = [(letter_extractions(name), gender) for name, gender in trainnames]\n",
    "test_set = [(letter_extractions(name), gender) for name, gender in testnames]"
   ]
  },
  {
   "cell_type": "code",
   "execution_count": 57,
   "metadata": {},
   "outputs": [
    {
     "data": {
      "text/plain": [
       "0.788"
      ]
     },
     "execution_count": 57,
     "metadata": {},
     "output_type": "execute_result"
    }
   ],
   "source": [
    "classifier2 = nltk.NaiveBayesClassifier.train(train_set)\n",
    "nltk.classify.accuracy(classifier2, test_set)"
   ]
  },
  {
   "cell_type": "code",
   "execution_count": 59,
   "metadata": {},
   "outputs": [],
   "source": [
    "def get_errors2(test):\n",
    "    errors = []\n",
    "    for (name, gender) in testnames:\n",
    "        guess = classifier2.classify(letter_extractions(name))\n",
    "        if guess != gender:\n",
    "            errors.append((gender, guess, name))\n",
    "    return errors"
   ]
  },
  {
   "cell_type": "code",
   "execution_count": 67,
   "metadata": {},
   "outputs": [
    {
     "name": "stdout",
     "output_type": "stream",
     "text": [
      "107\n"
     ]
    },
    {
     "data": {
      "text/plain": [
       "[('female', 'male', 'Linet'),\n",
       " ('female', 'male', 'Cinnamon'),\n",
       " ('male', 'female', 'Shorty'),\n",
       " ('male', 'female', 'Moe'),\n",
       " ('male', 'female', 'Tedie'),\n",
       " ('male', 'female', 'Trace'),\n",
       " ('female', 'male', 'Nell'),\n",
       " ('female', 'male', 'Fanchon'),\n",
       " ('female', 'male', 'Dagmar'),\n",
       " ('male', 'female', 'Sherlocke'),\n",
       " ('male', 'female', 'Ossie'),\n",
       " ('female', 'male', 'Kirstyn'),\n",
       " ('male', 'female', 'Kalle'),\n",
       " ('female', 'male', 'Ardith'),\n",
       " ('female', 'male', 'Madel'),\n",
       " ('female', 'male', 'Karylin'),\n",
       " ('female', 'male', 'Noelyn'),\n",
       " ('female', 'male', 'Rebekah'),\n",
       " ('female', 'male', 'Imogen'),\n",
       " ('female', 'male', 'Wileen'),\n",
       " ('male', 'female', 'Wylie'),\n",
       " ('male', 'female', 'Augustine'),\n",
       " ('male', 'female', 'Joe'),\n",
       " ('female', 'male', 'Gwenn'),\n",
       " ('female', 'male', 'Mirabel'),\n",
       " ('female', 'male', 'Alison'),\n",
       " ('female', 'male', 'Moll'),\n",
       " ('female', 'male', 'Jesselyn'),\n",
       " ('female', 'male', 'Meagan'),\n",
       " ('male', 'female', 'Noble'),\n",
       " ('male', 'female', 'Zane'),\n",
       " ('female', 'male', 'Cristen'),\n",
       " ('male', 'female', 'Mickey'),\n",
       " ('female', 'male', 'Carolann'),\n",
       " ('female', 'male', 'Gabriell'),\n",
       " ('female', 'male', 'Lisabeth'),\n",
       " ('female', 'male', 'Jonis'),\n",
       " ('male', 'female', 'Adlai'),\n",
       " ('female', 'male', 'Janith'),\n",
       " ('female', 'male', 'Ayn'),\n",
       " ('female', 'male', 'Kristen'),\n",
       " ('male', 'female', 'Robbie'),\n",
       " ('male', 'female', 'Sawyere'),\n",
       " ('female', 'male', 'Fred'),\n",
       " ('female', 'male', 'Roslyn'),\n",
       " ('female', 'male', 'Robbin'),\n",
       " ('female', 'male', 'Linnet'),\n",
       " ('male', 'female', 'Zacharia'),\n",
       " ('male', 'female', 'Doyle'),\n",
       " ('female', 'male', 'Janet'),\n",
       " ('male', 'female', 'Murphy'),\n",
       " ('male', 'female', 'Herbie'),\n",
       " ('male', 'female', 'Serge'),\n",
       " ('female', 'male', 'Beth'),\n",
       " ('female', 'male', 'Nonnah'),\n",
       " ('male', 'female', 'Cody'),\n",
       " ('female', 'male', 'Saraann'),\n",
       " ('male', 'female', 'Giuseppe'),\n",
       " ('female', 'male', 'Allys'),\n",
       " ('female', 'male', 'Cecil'),\n",
       " ('female', 'male', 'Alys'),\n",
       " ('female', 'male', 'Shirah'),\n",
       " ('male', 'female', 'Winnie'),\n",
       " ('female', 'male', 'Lark'),\n",
       " ('female', 'male', 'Carmon'),\n",
       " ('female', 'male', 'Sibel'),\n",
       " ('male', 'female', 'Tally'),\n",
       " ('female', 'male', 'Lust'),\n",
       " ('female', 'male', 'Marillin'),\n",
       " ('male', 'female', 'Alaa'),\n",
       " ('female', 'male', 'Moreen'),\n",
       " ('male', 'female', 'Scotti'),\n",
       " ('male', 'female', 'Ruddie'),\n",
       " ('female', 'male', 'Idell'),\n",
       " ('male', 'female', 'Jean-Christophe'),\n",
       " ('female', 'male', 'Jessalin'),\n",
       " ('male', 'female', 'Kane'),\n",
       " ('male', 'female', 'Lenny'),\n",
       " ('male', 'female', 'Dane'),\n",
       " ('male', 'female', 'Lane'),\n",
       " ('male', 'female', 'Witty'),\n",
       " ('female', 'male', 'Gabriel'),\n",
       " ('female', 'male', 'Laureen'),\n",
       " ('female', 'male', 'Millicent'),\n",
       " ('male', 'female', 'Reggy'),\n",
       " ('male', 'female', 'Clare'),\n",
       " ('female', 'male', 'Adriaens'),\n",
       " ('male', 'female', 'Abbey'),\n",
       " ('male', 'female', 'Neddie'),\n",
       " ('male', 'female', 'Hewie'),\n",
       " ('female', 'male', 'Fawn'),\n",
       " ('male', 'female', 'Reese'),\n",
       " ('male', 'female', 'Barde'),\n",
       " ('female', 'male', 'Madlen'),\n",
       " ('male', 'female', 'Courtney'),\n",
       " ('male', 'female', 'Cyrille'),\n",
       " ('male', 'female', 'Moishe'),\n",
       " ('female', 'male', 'Austin'),\n",
       " ('female', 'male', 'Kristan'),\n",
       " ('female', 'male', 'Marigold'),\n",
       " ('female', 'male', 'Sigrid'),\n",
       " ('female', 'male', 'Kerrin'),\n",
       " ('female', 'male', 'Meridel'),\n",
       " ('female', 'male', 'Gennifer'),\n",
       " ('male', 'female', 'Ambrosi'),\n",
       " ('female', 'male', 'Cherlyn')]"
      ]
     },
     "execution_count": 67,
     "metadata": {},
     "output_type": "execute_result"
    }
   ],
   "source": [
    "errors2 = get_errors2(testnames)\n",
    "print(len(errors))\n",
    "errors2"
   ]
  },
  {
   "cell_type": "code",
   "execution_count": 62,
   "metadata": {},
   "outputs": [
    {
     "name": "stdout",
     "output_type": "stream",
     "text": [
      "Most Informative Features\n",
      "             last_letter = 'k'              male : female =     43.5 : 1.0\n",
      "         previous_letter = 'k'              male : female =     43.5 : 1.0\n",
      "             last_letter = 'a'            female : male   =     35.6 : 1.0\n",
      "         previous_letter = 'a'            female : male   =     35.6 : 1.0\n",
      "             last_letter = 'f'              male : female =     15.8 : 1.0\n",
      "         previous_letter = 'f'              male : female =     15.8 : 1.0\n",
      "             last_letter = 'p'              male : female =     12.5 : 1.0\n",
      "         previous_letter = 'p'              male : female =     12.5 : 1.0\n",
      "         previous_letter = 'v'              male : female =     10.4 : 1.0\n",
      "             last_letter = 'v'              male : female =     10.4 : 1.0\n",
      "             last_letter = 'd'              male : female =     10.0 : 1.0\n",
      "         previous_letter = 'd'              male : female =     10.0 : 1.0\n",
      "             last_letter = 'm'              male : female =      8.4 : 1.0\n",
      "         previous_letter = 'm'              male : female =      8.4 : 1.0\n",
      "         previous_letter = 'o'              male : female =      7.7 : 1.0\n",
      "             last_letter = 'o'              male : female =      7.7 : 1.0\n",
      "             last_letter = 'r'              male : female =      6.6 : 1.0\n",
      "         previous_letter = 'r'              male : female =      6.6 : 1.0\n",
      "         previous_letter = 'w'              male : female =      5.4 : 1.0\n",
      "             last_letter = 'w'              male : female =      5.4 : 1.0\n"
     ]
    }
   ],
   "source": [
    "classifier2.show_most_informative_features(20)"
   ]
  },
  {
   "cell_type": "code",
   "execution_count": 72,
   "metadata": {},
   "outputs": [
    {
     "data": {
      "text/plain": [
       "[('male', 'female', 'Barth'),\n",
       " ('male', 'female', 'Pooh'),\n",
       " ('male', 'female', 'Hirsch'),\n",
       " ('male', 'female', 'Garth'),\n",
       " ('male', 'female', 'Rolph'),\n",
       " ('male', 'female', 'Ramesh'),\n",
       " ('male', 'female', 'Zebadiah'),\n",
       " ('male', 'female', 'Worth')]"
      ]
     },
     "execution_count": 72,
     "metadata": {},
     "output_type": "execute_result"
    }
   ],
   "source": [
    "better_names = [item for item in errors if item not in errors2]\n",
    "better_names"
   ]
  },
  {
   "cell_type": "code",
   "execution_count": 78,
   "metadata": {},
   "outputs": [
    {
     "name": "stdout",
     "output_type": "stream",
     "text": [
      "0.806\n"
     ]
    }
   ],
   "source": [
    "def first_last(word):\n",
    "    if len(word) >= 3:\n",
    "        return {\"first\":word[0], \"middle\":word[-2], \"last\":word[-1]}\n",
    "\n",
    "train_set = [(first_last(name), gender) for name, gender in trainnames if first_last(name) is not None]\n",
    "test_set = [(first_last(name), gender) for name, gender in testnames  if first_last(name) is not None]\n",
    "\n",
    "classifier3 = nltk.NaiveBayesClassifier.train(train_set)\n",
    "\n",
    "print(nltk.classify.accuracy(classifier3, test_set))"
   ]
  },
  {
   "cell_type": "code",
   "execution_count": 84,
   "metadata": {},
   "outputs": [
    {
     "data": {
      "text/plain": [
       "['neg', 'pos']"
      ]
     },
     "execution_count": 84,
     "metadata": {},
     "output_type": "execute_result"
    }
   ],
   "source": [
    "from nltk.corpus import movie_reviews\n",
    "movie_reviews.categories()"
   ]
  },
  {
   "cell_type": "code",
   "execution_count": 107,
   "metadata": {},
   "outputs": [],
   "source": [
    "documents = [(list(movie_reviews.words(fileid)), cat) for cat in \n",
    "             movie_reviews.categories() for fileid in movie_reviews.fileids(cat)]"
   ]
  },
  {
   "cell_type": "code",
   "execution_count": 112,
   "metadata": {},
   "outputs": [],
   "source": [
    "random.shuffle(documents)\n",
    "test = documents[:100]\n",
    "train = documents[100:]"
   ]
  },
  {
   "cell_type": "code",
   "execution_count": 113,
   "metadata": {},
   "outputs": [],
   "source": [
    "word_freq = nltk.FreqDist([w.lower() for document in documents for w  in document[0]])"
   ]
  },
  {
   "cell_type": "code",
   "execution_count": 156,
   "metadata": {},
   "outputs": [],
   "source": [
    "most_common = word_freq.most_common(2000)\n",
    "word_feature = [w for w, c in most_common]\n",
    "\n",
    "def get_features(document, feature_set):\n",
    "    document_words = set(document)\n",
    "    feature_dict = {}\n",
    "    for w in feature_set:\n",
    "        key = \"V_{:s}\".format(w)\n",
    "        feature_dict[key] = (w in document_words)\n",
    "    return feature_dict"
   ]
  },
  {
   "cell_type": "code",
   "execution_count": 157,
   "metadata": {},
   "outputs": [],
   "source": [
    "train_set = [(get_features(doc, word_feature), cat) for doc, cat in train]\n",
    "test_set = [(get_features(doc, word_feature), cat) for doc, cat in test]"
   ]
  },
  {
   "cell_type": "code",
   "execution_count": 158,
   "metadata": {},
   "outputs": [
    {
     "name": "stdout",
     "output_type": "stream",
     "text": [
      "0.84\n"
     ]
    }
   ],
   "source": [
    "movie_classifier = nltk.NaiveBayesClassifier.train(train_set)\n",
    "print(nltk.classify.accuracy(movie_classifier, test_set))"
   ]
  },
  {
   "cell_type": "code",
   "execution_count": 165,
   "metadata": {},
   "outputs": [],
   "source": [
    "from nltk.corpus import stopwords\n",
    "import re\n",
    "\n",
    "stop = stopwords.words(\"english\")\n",
    "pat = re.compile('[^a-z]+')\n",
    "words_only = [w for document in documents for w in document[0]]\n",
    "most_common = nltk.FreqDist(words_only)\n",
    "word_features = [w for w, c in most_common.most_common(500)]"
   ]
  },
  {
   "cell_type": "code",
   "execution_count": 166,
   "metadata": {},
   "outputs": [
    {
     "name": "stdout",
     "output_type": "stream",
     "text": [
      "0.84\n"
     ]
    }
   ],
   "source": [
    "train_set = [(get_features(doc, word_features), cat) for doc, cat in train]\n",
    "test_set = [(get_features(doc, word_features), cat) for doc, cat in test] \n",
    "movie_classifier2 = nltk.NaiveBayesClassifier.train(train_set)\n",
    "print(nltk.classify.accuracy(movie_classifier2, test_set))"
   ]
  },
  {
   "cell_type": "code",
   "execution_count": null,
   "metadata": {},
   "outputs": [],
   "source": []
  }
 ],
 "metadata": {
  "kernelspec": {
   "display_name": "Python 3",
   "language": "python",
   "name": "python3"
  },
  "language_info": {
   "codemirror_mode": {
    "name": "ipython",
    "version": 3
   },
   "file_extension": ".py",
   "mimetype": "text/x-python",
   "name": "python",
   "nbconvert_exporter": "python",
   "pygments_lexer": "ipython3",
   "version": "3.6.5"
  }
 },
 "nbformat": 4,
 "nbformat_minor": 2
}
